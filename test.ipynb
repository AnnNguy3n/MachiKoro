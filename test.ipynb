{
 "cells": [
  {
   "cell_type": "code",
   "execution_count": null,
   "metadata": {},
   "outputs": [],
   "source": [
    "import pandas\n",
    "import numpy\n",
    "data = pandas.read_csv('gym_MachiKoro/envs/base/card.csv', index_col='name')\n",
    "data"
   ]
  },
  {
   "cell_type": "code",
   "execution_count": null,
   "metadata": {},
   "outputs": [],
   "source": [
    "data[(data['activated_from'] == 'Anyone') | (data['activated_from'] == 'You')]"
   ]
  },
  {
   "cell_type": "code",
   "execution_count": null,
   "metadata": {},
   "outputs": [],
   "source": [
    "from copy import deepcopy\n",
    "\n",
    "\n",
    "class Card:\n",
    "    def __init__(self, card_type: str, name: str, price: int, description: str):\n",
    "        self.__card_type = card_type # Cái biểu tượng bên cạnh tên thẻ\n",
    "        self.__name = name\n",
    "        self.__price = price # Giá để mua thẻ\n",
    "        self.__description = description\n",
    "\n",
    "    @property\n",
    "    def card_type(self):\n",
    "        return self.__card_type\n",
    "    \n",
    "    @property\n",
    "    def name(self):\n",
    "        return self.__name\n",
    "\n",
    "    @property\n",
    "    def price(self):\n",
    "        return self.__price\n",
    "\n",
    "    @property\n",
    "    def description(self):\n",
    "        return self.__description\n",
    "\n",
    "    def convert_to_dict(self):\n",
    "        return deepcopy({\n",
    "            'card_type': self.__card_type,\n",
    "            'name': self.__name,\n",
    "            'price': self.__price\n",
    "        })\n",
    "        \n",
    "\n",
    "class Important_Land_Card(Card):\n",
    "    def __init__(self, card_type: str, name: str, price: int, description: str):\n",
    "        super().__init__(card_type, name, price, description)\n",
    "\n",
    "class Support_Card(Card):\n",
    "    def __init__(self, card_type: str, name: str, price: int, description: str, value_to_activate: list, activate_from: str,\n",
    "                income: None or int, income_from: str, income_times: str, card_type_in_effect: None or str):\n",
    "        super().__init__(card_type, name, price, description)\n",
    "        self.__value_to_activate = value_to_activate.copy()\n",
    "        self.__activate_from = activate_from\n",
    "        self.__income = income\n",
    "        self.__income_from = income_from\n",
    "        self.__income_times = income_times\n",
    "        self.__card_type_in_effect = card_type_in_effect\n",
    "    \n",
    "    @property\n",
    "    def value_to_activate(self):\n",
    "        return self.__value_to_activate.copy()\n",
    "    \n",
    "    @property\n",
    "    def activate_from(self):\n",
    "        return self.__activate_from\n",
    "    \n",
    "    @property\n",
    "    def income(self):\n",
    "        return self.__income\n",
    "    \n",
    "    @property\n",
    "    def income_from(self):\n",
    "        return self.__income_from\n",
    "    \n",
    "    @property\n",
    "    def income_times(self):\n",
    "        return self.__income_times\n",
    "    \n",
    "    @property\n",
    "    def card_type_in_effect(self):\n",
    "        return self.__card_type_in_effect\n",
    "\n",
    "    def convert_to_dict(self):\n",
    "        return deepcopy({\n",
    "            'card_type': self.card_type,\n",
    "            'name': self.name,\n",
    "            'price': self.price,\n",
    "            'value_to_activate': self.__value_to_activate.copy(),\n",
    "            'activate_from': self.__activate_from,\n",
    "            'income': self.__income,\n",
    "            'income_from': self.__income_from,\n",
    "            'income_times': self.__income_times,\n",
    "            'card_type_in_effect': self.__card_type_in_effect\n",
    "        })"
   ]
  },
  {
   "cell_type": "code",
   "execution_count": null,
   "metadata": {},
   "outputs": [],
   "source": [
    "list_Important_Land_Card = []\n",
    "for name in data.index[:4]:\n",
    "    list_Important_Land_Card.append(Important_Land_Card(data['card_type'][name], name, int(data['price'][name]), data['description'][name]))"
   ]
  },
  {
   "cell_type": "code",
   "execution_count": null,
   "metadata": {},
   "outputs": [],
   "source": [
    "list_Support_Card = []\n",
    "for name in data.index[4:]:\n",
    "    try:\n",
    "        income = int(data['income'][name])\n",
    "    except:\n",
    "        income = None\n",
    "    list_Support_Card.append(Support_Card(data['card_type'][name], name, int(data['price'][name]), data['description'][name], [int(a) for a in data['value_to_activate'][name].split(',')], data['activate_from'][name], income, data['income_from'][name], data['income_times'][name], data['card_type_in_effect'][name]))"
   ]
  },
  {
   "cell_type": "code",
   "execution_count": null,
   "metadata": {},
   "outputs": [],
   "source": [
    "for card in list_Important_Land_Card:\n",
    "    print('###', card.card_type, '***card_type')\n",
    "    print(card.name, '***name')\n",
    "    print(card.price, '***price')\n",
    "    print(card.description, '***description')"
   ]
  },
  {
   "cell_type": "code",
   "execution_count": null,
   "metadata": {},
   "outputs": [],
   "source": [
    "for card in list_Support_Card:\n",
    "    print('###', card.card_type, '***card_type')\n",
    "    print(card.name, '***name')\n",
    "    print(card.price, '***price')\n",
    "    print(card.description, '***description')\n",
    "    print(card.value_to_activate, '***value_to_activate')\n",
    "    print(card.activate_from, '***activate_from')\n",
    "    print(card.income, '***income')\n",
    "    print(card.income_from, '***income_from')\n",
    "    print(card.income_times, '***income_times')\n",
    "    print(card.card_type_in_effect, '***card_type_in_effect')"
   ]
  },
  {
   "cell_type": "code",
   "execution_count": null,
   "metadata": {},
   "outputs": [],
   "source": [
    "temp = [card.name for card in list_Important_Land_Card]\n",
    "print(temp)"
   ]
  },
  {
   "cell_type": "code",
   "execution_count": null,
   "metadata": {},
   "outputs": [],
   "source": [
    "from copy import deepcopy\n",
    "import pandas\n",
    "# from gym_MachiKoro.envs.base.card import Support_Card, Important_Land_Card\n",
    "\n",
    "\n",
    "class Board:\n",
    "    def __init__(self):\n",
    "        temp = ['Wheat Field', 'Livestock Farm', 'Bakery', 'Cafe', 'Convenience Store', 'Forest', 'Stadium', 'TV Station', 'Business Complex',\n",
    "                'Cheese Factory', 'Furniture Factory', 'Mine', 'Family Restaurant', 'Apple Orchard', 'Vegetable Market']\n",
    "\n",
    "        self.__support_cards = {}\n",
    "        for name in temp:\n",
    "            if name not in ['Stadium', 'TV Station', 'Business Complex']:\n",
    "                self.__support_cards[name] = 6\n",
    "            else:\n",
    "                self.__support_cards[name] = 4\n",
    "        \n",
    "        data = pandas.read_csv('gym_MachiKoro/envs/base/card.csv', index_col='name')\n",
    "\n",
    "        self.__support_cards_object = {}\n",
    "        for name in temp:\n",
    "            try:\n",
    "                income = int(data['income'][name])\n",
    "            except:\n",
    "                income = None\n",
    "\n",
    "            self.__support_cards_object[name] = Support_Card(data['card_type'][name], name, int(data['price'][name]), data['description'][name],[int(a) for a in data['value_to_activate'][name].split(',')],\n",
    "                                                            data['activate_from'][name], income, data['income_from'][name], data['income_times'][name], data['card_type_in_effect'][name])\n",
    "\n",
    "    @property\n",
    "    def support_cards(self):\n",
    "        return deepcopy(self.__support_cards)\n",
    "\n",
    "    @property\n",
    "    def support_cards_object(self):\n",
    "        return deepcopy(self.__support_cards_object)"
   ]
  },
  {
   "cell_type": "code",
   "execution_count": null,
   "metadata": {},
   "outputs": [],
   "source": [
    "board = Board()"
   ]
  },
  {
   "cell_type": "code",
   "execution_count": null,
   "metadata": {},
   "outputs": [],
   "source": [
    "for key in board.support_cards_object.keys():\n",
    "    print(type(board.support_cards_object[key]), board.support_cards_object[key].convert_to_dict())"
   ]
  },
  {
   "cell_type": "code",
   "execution_count": null,
   "metadata": {},
   "outputs": [],
   "source": [
    "print(board.support_cards)"
   ]
  },
  {
   "cell_type": "code",
   "execution_count": null,
   "metadata": {},
   "outputs": [],
   "source": [
    "from copy import deepcopy\n",
    "import pandas\n",
    "# from gym_MachiKoro.envs.base.card import Support_Card, Important_Land_Card\n",
    "\n",
    "\n",
    "class Player:\n",
    "    def __init__(self, name):\n",
    "        self.__name = name\n",
    "        self.__full_action = []\n",
    "        self.__amount_action_space = 0\n",
    "        self.reset()\n",
    "\n",
    "    def reset(self):\n",
    "        data = pandas.read_csv('gym_MachiKoro/envs/base/card.csv', index_col='name')\n",
    "        temp = ['Wheat Field', 'Livestock Farm', 'Bakery', 'Cafe', 'Convenience Store', 'Forest', 'Stadium', 'TV Station', 'Business Complex',\n",
    "                'Cheese Factory', 'Furniture Factory', 'Mine', 'Family Restaurant', 'Apple Orchard', 'Vegetable Market']\n",
    "\n",
    "        self.__support_cards = {}\n",
    "        for name in temp:\n",
    "            self.__support_cards[name] = 0\n",
    "\n",
    "        self.__support_cards_object = {}\n",
    "        for name in temp:\n",
    "            try:\n",
    "                income = int(data['income'][name])\n",
    "            except:\n",
    "                income = None\n",
    "\n",
    "            self.__support_cards_object[name] = Support_Card(data['card_type'][name], name, int(data['price'][name]), data['description'][name],[int(a) for a in data['value_to_activate'][name].split(',')],\n",
    "                                                            data['activate_from'][name], income, data['income_from'][name], data['income_times'][name], data['card_type_in_effect'][name])\n",
    "\n",
    "        temp = ['Train Station', 'Shopping Mall', 'Amusement Park', 'Radio Tower']\n",
    "        self.__important_land_cards = {}\n",
    "        for name in temp:\n",
    "            self.__important_land_cards[name] = 0\n",
    "        \n",
    "        self.__important_land_cards_object = {}\n",
    "        for name in temp:\n",
    "            self.__important_land_cards_object[name] = Important_Land_Card(data['card_type'][name], name, int(data['price'][name]), data['description'][name])\n",
    "\n",
    "    @property\n",
    "    def name(self):\n",
    "        return self.__name\n",
    "    \n",
    "    @property\n",
    "    def support_cards(self):\n",
    "        return deepcopy(self.__support_cards)\n",
    "\n",
    "    @property\n",
    "    def support_cards_object(self):\n",
    "        return deepcopy(self.__support_cards_object)\n",
    "\n",
    "    @property\n",
    "    def important_land_cards(self):\n",
    "        return deepcopy(self.__important_land_cards)\n",
    "    \n",
    "    @property\n",
    "    def important_land_cards_object(self):\n",
    "        return deepcopy(self.__important_land_cards_object)\n",
    "\n",
    "    @property\n",
    "    def amount_action_space(self):\n",
    "        return self.__amount_action_space"
   ]
  },
  {
   "cell_type": "code",
   "execution_count": null,
   "metadata": {},
   "outputs": [],
   "source": [
    "player = Player('An')"
   ]
  },
  {
   "cell_type": "code",
   "execution_count": null,
   "metadata": {},
   "outputs": [],
   "source": [
    "for key in player.important_land_cards_object.keys():\n",
    "    print(type(player.important_land_cards_object[key]), player.important_land_cards_object[key].convert_to_dict())"
   ]
  },
  {
   "cell_type": "code",
   "execution_count": null,
   "metadata": {},
   "outputs": [],
   "source": [
    "print(player.support_cards)"
   ]
  },
  {
   "cell_type": "code",
   "execution_count": null,
   "metadata": {},
   "outputs": [],
   "source": [
    "import random\n",
    "def roll_the_dice(number_of_dice=1):\n",
    "    if number_of_dice == 1:\n",
    "        return random.randint(1,6)\n",
    "        \n",
    "    elif number_of_dice == 2:\n",
    "        return random.randint(1,6), random.randint(1,6)"
   ]
  },
  {
   "cell_type": "code",
   "execution_count": null,
   "metadata": {},
   "outputs": [],
   "source": [
    "from collections import Counter\n",
    "a = Counter([roll_the_dice(2) for i in range(1000000)])\n",
    "a.__len__()"
   ]
  },
  {
   "cell_type": "code",
   "execution_count": null,
   "metadata": {},
   "outputs": [],
   "source": [
    "temp = ['A', 'B']\n",
    "turn = 0\n",
    "for i in range(turn-1,turn-temp.__len__(),-1):\n",
    "    print(temp[i])"
   ]
  },
  {
   "cell_type": "code",
   "execution_count": null,
   "metadata": {},
   "outputs": [],
   "source": [
    "a = {\n",
    "    'a': 3,\n",
    "    'b': 4,\n",
    "    'c': 5,\n",
    "    'd': 6\n",
    "}\n",
    "\n",
    "b = {item for item in a.items() if item[1] % 2 == 1}\n",
    "b"
   ]
  },
  {
   "cell_type": "code",
   "execution_count": null,
   "metadata": {},
   "outputs": [],
   "source": [
    "class A:\n",
    "    def __init__(self):\n",
    "        self.__abc = random.randint(1,5)\n",
    "\n",
    "class B:\n",
    "    def __init__(self):\n",
    "        self.__list_abc = [A(), A(), A()]\n",
    "        self.__choice = random.choice(self.__list_abc)"
   ]
  },
  {
   "cell_type": "code",
   "execution_count": null,
   "metadata": {},
   "outputs": [],
   "source": [
    "import random\n",
    "temp = B()"
   ]
  },
  {
   "cell_type": "code",
   "execution_count": null,
   "metadata": {},
   "outputs": [],
   "source": [
    "temp._B__choice._A__abc = 99"
   ]
  },
  {
   "cell_type": "code",
   "execution_count": null,
   "metadata": {},
   "outputs": [],
   "source": [
    "list_ = ['a', 'aa', 'b', 'c']\n",
    "a = list_.pop(0)\n",
    "list_"
   ]
  },
  {
   "cell_type": "code",
   "execution_count": null,
   "metadata": {},
   "outputs": [],
   "source": [
    "a = list_.pop(0)\n",
    "list_"
   ]
  },
  {
   "cell_type": "code",
   "execution_count": null,
   "metadata": {},
   "outputs": [],
   "source": [
    "a = 1"
   ]
  },
  {
   "cell_type": "code",
   "execution_count": null,
   "metadata": {},
   "outputs": [],
   "source": [
    "def a():\n",
    "    return 1,2"
   ]
  },
  {
   "cell_type": "code",
   "execution_count": 9,
   "metadata": {},
   "outputs": [],
   "source": [
    "b = 1"
   ]
  },
  {
   "cell_type": "code",
   "execution_count": 1,
   "metadata": {},
   "outputs": [],
   "source": [
    "class A:\n",
    "    def __init__(self):\n",
    "        self.abc = [1,2,3]\n",
    "        self.xyz()\n",
    "\n",
    "    def xyz(self):\n",
    "        self.xyz = self.abc.pop(0)"
   ]
  },
  {
   "cell_type": "code",
   "execution_count": 2,
   "metadata": {},
   "outputs": [],
   "source": [
    "abcxyz = A()"
   ]
  },
  {
   "cell_type": "code",
   "execution_count": 10,
   "metadata": {},
   "outputs": [
    {
     "name": "stdout",
     "output_type": "stream",
     "text": [
      "No\n"
     ]
    }
   ],
   "source": [
    "if type(b) == tuple and b[0] == b[1]:\n",
    "    print('Yes')\n",
    "else:\n",
    "    print('No')"
   ]
  }
 ],
 "metadata": {
  "interpreter": {
   "hash": "3bc1a11519d29b3ed6f08646f3ece60640217e649724c6bcfd38e1173c1a1bce"
  },
  "kernelspec": {
   "display_name": "Python 3.10.2 64-bit",
   "language": "python",
   "name": "python3"
  },
  "language_info": {
   "codemirror_mode": {
    "name": "ipython",
    "version": 3
   },
   "file_extension": ".py",
   "mimetype": "text/x-python",
   "name": "python",
   "nbconvert_exporter": "python",
   "pygments_lexer": "ipython3",
   "version": "3.10.2"
  },
  "orig_nbformat": 4
 },
 "nbformat": 4,
 "nbformat_minor": 2
}
